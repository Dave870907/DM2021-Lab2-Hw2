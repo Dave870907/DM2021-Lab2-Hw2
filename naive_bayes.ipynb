{
 "cells": [
  {
   "cell_type": "code",
   "execution_count": 1,
   "metadata": {},
   "outputs": [],
   "source": [
    "import pandas as pd\n",
    "import json\n",
    "from tqdm import tqdm\n",
    "import csv\n",
    "import numpy as np\n",
    "import random"
   ]
  },
  {
   "cell_type": "code",
   "execution_count": 2,
   "metadata": {},
   "outputs": [
    {
     "name": "stderr",
     "output_type": "stream",
     "text": [
      "[nltk_data] Downloading package stopwords to\n",
      "[nltk_data]     /Users/wuguanwei/nltk_data...\n",
      "[nltk_data]   Package stopwords is already up-to-date!\n"
     ]
    }
   ],
   "source": [
    "import nltk\n",
    "\n",
    "nltk.download('stopwords')\n",
    "from nltk.corpus import stopwords\n",
    "STOPWORDS = set(stopwords.words('english'))\n",
    "def clean_stopword(article):\n",
    "\n",
    "    for word in STOPWORDS:\n",
    "        token = ' ' + word + ' '\n",
    "        article = article.replace(token, ' ')\n",
    "        article = article.replace(' ', ' ')\n",
    "    return article"
   ]
  },
  {
   "cell_type": "code",
   "execution_count": 4,
   "metadata": {},
   "outputs": [],
   "source": [
    "df_data_train = pd.read_pickle('HW_train.pkl')\n",
    "df_data_test = pd.read_pickle('HW_test.pkl')"
   ]
  },
  {
   "cell_type": "code",
   "execution_count": 5,
   "metadata": {},
   "outputs": [],
   "source": [
    "df_data_train['new_text'] = df_data_train['text'].apply(lambda x : clean_stopword(x))"
   ]
  },
  {
   "cell_type": "code",
   "execution_count": 6,
   "metadata": {},
   "outputs": [],
   "source": [
    "df_data_test['new_text'] = df_data_test['text'].apply(lambda x : clean_stopword(x))"
   ]
  },
  {
   "cell_type": "code",
   "execution_count": 7,
   "metadata": {},
   "outputs": [
    {
     "data": {
      "text/plain": [
       "TfidfVectorizer()"
      ]
     },
     "execution_count": 7,
     "metadata": {},
     "output_type": "execute_result"
    }
   ],
   "source": [
    "\n",
    "from sklearn.feature_extraction.text import TfidfVectorizer\n",
    "\n",
    "tfidf_vectorizer = TfidfVectorizer()\n",
    "tfidf_vectorizer.fit(df_data_train['new_text'])"
   ]
  },
  {
   "cell_type": "code",
   "execution_count": 8,
   "metadata": {},
   "outputs": [],
   "source": [
    "X_train = tfidf_vectorizer.transform(df_data_train['new_text'])\n",
    "y_train = df_data_train['label']\n",
    "\n",
    "X_test = tfidf_vectorizer.transform(df_data_test['new_text'])"
   ]
  },
  {
   "cell_type": "code",
   "execution_count": 9,
   "metadata": {},
   "outputs": [
    {
     "name": "stdout",
     "output_type": "stream",
     "text": [
      "training accuracy: 0.52\n"
     ]
    }
   ],
   "source": [
    "from sklearn.naive_bayes import MultinomialNB\n",
    "from sklearn.metrics import accuracy_score\n",
    "mnb_model = MultinomialNB()\n",
    "mnb_model = mnb_model.fit(X_train, y_train)\n",
    "\n",
    "y_train_pred_mnb = mnb_model.predict(X_train)\n",
    "y_test_pred_mnb = mnb_model.predict(X_test)\n",
    "\n",
    "acc_train_mnb = accuracy_score(y_true=y_train, y_pred=y_train_pred_mnb)\n",
    "\n",
    "\n",
    "print('training accuracy: {}'.format(round(acc_train_mnb, 2)))\n"
   ]
  },
  {
   "cell_type": "code",
   "execution_count": 10,
   "metadata": {},
   "outputs": [],
   "source": [
    "df_data_test['label'] = y_test_pred_mnb"
   ]
  },
  {
   "cell_type": "code",
   "execution_count": 11,
   "metadata": {},
   "outputs": [
    {
     "data": {
      "text/html": [
       "<div>\n",
       "<style scoped>\n",
       "    .dataframe tbody tr th:only-of-type {\n",
       "        vertical-align: middle;\n",
       "    }\n",
       "\n",
       "    .dataframe tbody tr th {\n",
       "        vertical-align: top;\n",
       "    }\n",
       "\n",
       "    .dataframe thead th {\n",
       "        text-align: right;\n",
       "    }\n",
       "</style>\n",
       "<table border=\"1\" class=\"dataframe\">\n",
       "  <thead>\n",
       "    <tr style=\"text-align: right;\">\n",
       "      <th></th>\n",
       "      <th>_score</th>\n",
       "      <th>hashTag</th>\n",
       "      <th>tweet_id</th>\n",
       "      <th>text</th>\n",
       "      <th>new_text</th>\n",
       "      <th>label</th>\n",
       "    </tr>\n",
       "  </thead>\n",
       "  <tbody>\n",
       "    <tr>\n",
       "      <th>2</th>\n",
       "      <td>232</td>\n",
       "      <td>[bibleverse]</td>\n",
       "      <td>0x28b412</td>\n",
       "      <td>Confident of your obedience, I write to you, k...</td>\n",
       "      <td>Confident obedience, I write you, knowing even...</td>\n",
       "      <td>anticipation</td>\n",
       "    </tr>\n",
       "    <tr>\n",
       "      <th>4</th>\n",
       "      <td>989</td>\n",
       "      <td>[]</td>\n",
       "      <td>0x2de201</td>\n",
       "      <td>\"Trust is not the same as faith. A friend is s...</td>\n",
       "      <td>\"Trust faith. A friend someone trust. Putting ...</td>\n",
       "      <td>anticipation</td>\n",
       "    </tr>\n",
       "    <tr>\n",
       "      <th>9</th>\n",
       "      <td>66</td>\n",
       "      <td>[materialism, money, possessions]</td>\n",
       "      <td>0x218443</td>\n",
       "      <td>When do you have enough ? When are you satisfi...</td>\n",
       "      <td>When enough ? When satisfied ? Is goal really ...</td>\n",
       "      <td>joy</td>\n",
       "    </tr>\n",
       "    <tr>\n",
       "      <th>30</th>\n",
       "      <td>104</td>\n",
       "      <td>[GodsPlan, GodsWork]</td>\n",
       "      <td>0x2939d5</td>\n",
       "      <td>God woke you up, now chase the day #GodsPlan #...</td>\n",
       "      <td>God woke up, chase day #GodsPlan #GodsWork &lt;LH&gt;</td>\n",
       "      <td>joy</td>\n",
       "    </tr>\n",
       "    <tr>\n",
       "      <th>33</th>\n",
       "      <td>310</td>\n",
       "      <td>[]</td>\n",
       "      <td>0x26289a</td>\n",
       "      <td>In these tough times, who do YOU turn to as yo...</td>\n",
       "      <td>In tough times, YOU turn symbol hope? &lt;LH&gt;</td>\n",
       "      <td>joy</td>\n",
       "    </tr>\n",
       "    <tr>\n",
       "      <th>...</th>\n",
       "      <td>...</td>\n",
       "      <td>...</td>\n",
       "      <td>...</td>\n",
       "      <td>...</td>\n",
       "      <td>...</td>\n",
       "      <td>...</td>\n",
       "    </tr>\n",
       "    <tr>\n",
       "      <th>1867525</th>\n",
       "      <td>602</td>\n",
       "      <td>[]</td>\n",
       "      <td>0x2913b4</td>\n",
       "      <td>\"For this is the message that ye heard from th...</td>\n",
       "      <td>\"For message ye heard beginning, love one anot...</td>\n",
       "      <td>anticipation</td>\n",
       "    </tr>\n",
       "    <tr>\n",
       "      <th>1867529</th>\n",
       "      <td>598</td>\n",
       "      <td>[]</td>\n",
       "      <td>0x2a980e</td>\n",
       "      <td>\"There is a lad here, which hath five barley l...</td>\n",
       "      <td>\"There lad here, hath five barley loaves, two ...</td>\n",
       "      <td>anticipation</td>\n",
       "    </tr>\n",
       "    <tr>\n",
       "      <th>1867530</th>\n",
       "      <td>827</td>\n",
       "      <td>[mixedfeeling, butimTHATperson]</td>\n",
       "      <td>0x316b80</td>\n",
       "      <td>When you buy the last 2 tickets remaining for ...</td>\n",
       "      <td>When buy last 2 tickets remaining show sell ou...</td>\n",
       "      <td>joy</td>\n",
       "    </tr>\n",
       "    <tr>\n",
       "      <th>1867531</th>\n",
       "      <td>368</td>\n",
       "      <td>[]</td>\n",
       "      <td>0x29d0cb</td>\n",
       "      <td>I swear all this hard work gone pay off one da...</td>\n",
       "      <td>I swear hard work gone pay one day😈💰💸 &lt;LH&gt;</td>\n",
       "      <td>joy</td>\n",
       "    </tr>\n",
       "    <tr>\n",
       "      <th>1867532</th>\n",
       "      <td>498</td>\n",
       "      <td>[]</td>\n",
       "      <td>0x2a6a4f</td>\n",
       "      <td>@Parcel2Go no card left when I wasn't in so I ...</td>\n",
       "      <td>@Parcel2Go card left I I idea get parcel &lt;LH&gt;</td>\n",
       "      <td>sadness</td>\n",
       "    </tr>\n",
       "  </tbody>\n",
       "</table>\n",
       "<p>411972 rows × 6 columns</p>\n",
       "</div>"
      ],
      "text/plain": [
       "         _score                            hashTag  tweet_id  \\\n",
       "2           232                       [bibleverse]  0x28b412   \n",
       "4           989                                 []  0x2de201   \n",
       "9            66  [materialism, money, possessions]  0x218443   \n",
       "30          104               [GodsPlan, GodsWork]  0x2939d5   \n",
       "33          310                                 []  0x26289a   \n",
       "...         ...                                ...       ...   \n",
       "1867525     602                                 []  0x2913b4   \n",
       "1867529     598                                 []  0x2a980e   \n",
       "1867530     827    [mixedfeeling, butimTHATperson]  0x316b80   \n",
       "1867531     368                                 []  0x29d0cb   \n",
       "1867532     498                                 []  0x2a6a4f   \n",
       "\n",
       "                                                      text  \\\n",
       "2        Confident of your obedience, I write to you, k...   \n",
       "4        \"Trust is not the same as faith. A friend is s...   \n",
       "9        When do you have enough ? When are you satisfi...   \n",
       "30       God woke you up, now chase the day #GodsPlan #...   \n",
       "33       In these tough times, who do YOU turn to as yo...   \n",
       "...                                                    ...   \n",
       "1867525  \"For this is the message that ye heard from th...   \n",
       "1867529  \"There is a lad here, which hath five barley l...   \n",
       "1867530  When you buy the last 2 tickets remaining for ...   \n",
       "1867531  I swear all this hard work gone pay off one da...   \n",
       "1867532  @Parcel2Go no card left when I wasn't in so I ...   \n",
       "\n",
       "                                                  new_text         label  \n",
       "2        Confident obedience, I write you, knowing even...  anticipation  \n",
       "4        \"Trust faith. A friend someone trust. Putting ...  anticipation  \n",
       "9        When enough ? When satisfied ? Is goal really ...           joy  \n",
       "30         God woke up, chase day #GodsPlan #GodsWork <LH>           joy  \n",
       "33              In tough times, YOU turn symbol hope? <LH>           joy  \n",
       "...                                                    ...           ...  \n",
       "1867525  \"For message ye heard beginning, love one anot...  anticipation  \n",
       "1867529  \"There lad here, hath five barley loaves, two ...  anticipation  \n",
       "1867530  When buy last 2 tickets remaining show sell ou...           joy  \n",
       "1867531         I swear hard work gone pay one day😈💰💸 <LH>           joy  \n",
       "1867532      @Parcel2Go card left I I idea get parcel <LH>       sadness  \n",
       "\n",
       "[411972 rows x 6 columns]"
      ]
     },
     "execution_count": 11,
     "metadata": {},
     "output_type": "execute_result"
    }
   ],
   "source": [
    "df_data_test"
   ]
  },
  {
   "cell_type": "code",
   "execution_count": 13,
   "metadata": {},
   "outputs": [],
   "source": [
    "submission = df_data_test.drop(['_score','hashTag','text','new_text'],axis = 1)\n",
    "submission.columns = ['id','emotion']"
   ]
  },
  {
   "cell_type": "code",
   "execution_count": 14,
   "metadata": {},
   "outputs": [],
   "source": [
    "submission.to_csv('submission.csv',index=False)"
   ]
  },
  {
   "cell_type": "code",
   "execution_count": null,
   "metadata": {},
   "outputs": [],
   "source": []
  }
 ],
 "metadata": {
  "interpreter": {
   "hash": "09c2e031d31954db86f63a24740052395dfbc0788cd8d570312a8cddc41131fa"
  },
  "kernelspec": {
   "display_name": "Python 3.8.12 64-bit ('python38': conda)",
   "language": "python",
   "name": "python3"
  },
  "language_info": {
   "codemirror_mode": {
    "name": "ipython",
    "version": 3
   },
   "file_extension": ".py",
   "mimetype": "text/x-python",
   "name": "python",
   "nbconvert_exporter": "python",
   "pygments_lexer": "ipython3",
   "version": "3.8.12"
  },
  "orig_nbformat": 4
 },
 "nbformat": 4,
 "nbformat_minor": 2
}
